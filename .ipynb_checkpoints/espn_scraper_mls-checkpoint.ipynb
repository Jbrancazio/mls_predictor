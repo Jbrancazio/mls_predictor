{
 "cells": [
  {
   "cell_type": "markdown",
   "metadata": {},
   "source": [
    "# Collecting Data from ESPN"
   ]
  },
  {
   "cell_type": "code",
   "execution_count": 1,
   "metadata": {},
   "outputs": [],
   "source": [
    "import pandas as pd\n",
    "import numpy as np\n",
    "from bs4 import BeautifulSoup\n",
    "import requests\n",
    "import re"
   ]
  },
  {
   "cell_type": "markdown",
   "metadata": {},
   "source": [
    "I am going to start working with one team in the MLS, LAFC. This will allow me to start gathering the information for this team only and then I can expand from here. My process for this scraper is to\n",
    "\n",
    "1. Create a list of all game id's for LAFC over the course of their history\n",
    "2. Use these game ID's to pull game data from the ESPN website\n",
    "3. Remove any games that have happened in the 2020 season so far\n",
    "4. Expand this data collection to be able to include all teams in the MLS\n",
    "5. Use this data to create a model to predict the results of the 2020 MLS season (if it ever actually happens)"
   ]
  },
  {
   "cell_type": "markdown",
   "metadata": {},
   "source": [
    "### 1. List of game id's for LAFC"
   ]
  },
  {
   "cell_type": "markdown",
   "metadata": {},
   "source": [
    "#### 1.a First attempt to pull game Id's"
   ]
  },
  {
   "cell_type": "code",
   "execution_count": 2,
   "metadata": {},
   "outputs": [
    {
     "name": "stdout",
     "output_type": "stream",
     "text": [
      "['560836', '560829', '560541', '561813', '569598', '569593', '561794', '561786', '561768']\n"
     ]
    }
   ],
   "source": [
    "#create a page and us beautiful soup to parse out the content\n",
    "lafc_page=requests.get(\"https://global.espn.com/soccer/team/_/id/18966/lafc\")\n",
    "\n",
    "lafc_soup= BeautifulSoup(lafc_page.content, \"html.parser\")\n",
    "\n",
    "# find the body of the webpage\n",
    "[type(item) for item in list(lafc_soup.children)]\n",
    "\n",
    "lafc_body=list(lafc_soup.children)[3]\n",
    "lafc_body\n",
    "\n",
    "#find the fixture data\n",
    "lafc_fixtures=lafc_body.findAll(\"section\",{\"class\",\"col-b\"})[0]\n",
    "\n",
    "#find game webpage\n",
    "lafc_games=lafc_fixtures.findAll(\"a\",{\"class\",\"competitors\"})\n",
    "\n",
    "\n",
    "#create a list of LAFC game Id's\n",
    "lafc_game_id=[]\n",
    "for game in lafc_games:\n",
    "    if game.has_attr(\"href\"):\n",
    "        lafc_game_id.append(game[\"href\"][-6:])\n",
    "        \n",
    "print(lafc_game_id)"
   ]
  },
  {
   "cell_type": "markdown",
   "metadata": {},
   "source": [
    "<b><i>Looking at the list of game id's it seems like I have only been able to pull game id's from a few of LAFC's games. Upon further inspection of the webpage I used at the beginning, it looks like these are game id's from only the 2020 season which is actually the game Id's that I do not want. It also looks like I have included CONCACAF Champions League games which at this point, I might or might not want to include.</b> </i> "
   ]
  },
  {
   "cell_type": "code",
   "execution_count": 4,
   "metadata": {},
   "outputs": [
    {
     "data": {
      "text/plain": [
       "['560836',\n",
       " '560829',\n",
       " '560541',\n",
       " '561813',\n",
       " '569598',\n",
       " '569593',\n",
       " '561794',\n",
       " '561786',\n",
       " '561768']"
      ]
     },
     "execution_count": 4,
     "metadata": {},
     "output_type": "execute_result"
    }
   ],
   "source": [
    "#rename lafc_game_id list to 2020_lafc_game_id, Code is in comments below.\n",
    "\n",
    "    ##lafc_game_id_2020 = []\n",
    "    ##lafc_game_id_2020=lafc_game_id\n",
    "    ##del(lafc_game_id)\n",
    "    \n",
    "lafc_game_id_2020"
   ]
  },
  {
   "cell_type": "markdown",
   "metadata": {},
   "source": [
    "#### 1.b Reworking the scraper above to be able to pull all game data for LAFC"
   ]
  },
  {
   "cell_type": "code",
   "execution_count": 5,
   "metadata": {},
   "outputs": [
    {
     "name": "stdout",
     "output_type": "stream",
     "text": [
      "Number of Games for LAFC: 89\n",
      "\n",
      "Output for one game\n",
      "-----\n",
      "<tr class=\"Table__TR Table__TR--sm Table__even\" data-idx=\"0\"><td class=\"Table__TD\"><div class=\"matchTeams\">Sun, Mar 8</div></td><td class=\"Table__TD\"><div class=\"local flex items-center\"><a class=\"AnchorLink Table__Team\" href=\"/soccer/team/_/id/18966/lafc\" tabindex=\"0\">LAFC</a></div></td><td class=\"Table__TD\"><span class=\"Table__Team score\"><a class=\"AnchorLink\" href=\"/soccer/team/_/id/18966/lafc\" tabindex=\"0\"><figure class=\"Image aspect-ratio--parent Logo Logo__sm\"><div class=\"Image__Wrapper aspect-ratio--1x1\"><img alt=\"\" class=\"aspect-ratio--child\" data-mptype=\"image\" src=\"data:image/gif;base64,R0lGODlhAQABAIAAAAAAAP///yH5BAEAAAAALAAAAAABAAEAAAIBRAA7\" title=\"\"/></div></figure></a><a class=\"AnchorLink\" href=\"/soccer/match/_/gameId/561813\" tabindex=\"0\">3 - 3</a><a class=\"AnchorLink\" href=\"/soccer/team/_/id/10739/philadelphia-union\" tabindex=\"0\"><figure class=\"Image aspect-ratio--parent Logo Logo__sm\"><div class=\"Image__Wrapper aspect-ratio--1x1\"><img alt=\"\" class=\"aspect-ratio--child\" data-mptype=\"image\" src=\"data:image/gif;base64,R0lGODlhAQABAIAAAAAAAP///yH5BAEAAAAALAAAAAABAAEAAAIBRAA7\" title=\"\"/></div></figure></a></span></td><td class=\"Table__TD\"><div class=\"away flex items-center\"><a class=\"AnchorLink Table__Team\" href=\"/soccer/team/_/id/10739/philadelphia-union\" tabindex=\"0\">Philadelphia Union</a></div></td><td class=\"Table__TD\"><span><a class=\"AnchorLink\" href=\"/soccer/match/_/gameId/561813\" tabindex=\"0\">FT</a></span></td><td class=\"Table__TD\"><span>Major League Soccer</span></td></tr>\n"
     ]
    }
   ],
   "source": [
    "#create a page and us beautiful soup to parse out the content\n",
    "lafc_page= requests.get(\"https://www.espn.com/soccer/team/results/_/id/18966/season\")\n",
    "\n",
    "lafc_soup= BeautifulSoup(lafc_page.content, \"html.parser\")\n",
    "\n",
    "# find the body of the webpage\n",
    "[type(item) for item in list(lafc_soup.children)]\n",
    "lafc_body=list(lafc_soup.children)[3]\n",
    "lafc_body\n",
    "\n",
    "#Find all the games in the body\n",
    "lafc_games=lafc_body.findAll(\"tr\",{\"class\":\"Table__TR Table__TR--sm Table__even\"})\n",
    "\n",
    "print(\"Number of Games for LAFC:\",len(lafc_games))\n",
    "print(\"\")\n",
    "print(\"Output for one game\")\n",
    "print(\"-----\")\n",
    "print(lafc_games[0])"
   ]
  },
  {
   "cell_type": "markdown",
   "metadata": {},
   "source": [
    "<b><i>Looking at the output of the individual game, it seems as if there are multiple links and classes that contain AnchorLink. What I have decided to do is find all the links in the body that have the text of FT or FT-Pens. From here I can extract the game ID..</b> </i> "
   ]
  },
  {
   "cell_type": "code",
   "execution_count": 6,
   "metadata": {},
   "outputs": [
    {
     "name": "stdout",
     "output_type": "stream",
     "text": [
      "Number of links: 89\n",
      "\n",
      "Output for one link\n",
      "-----\n",
      "<a class=\"AnchorLink\" href=\"/soccer/match/_/gameId/561813\" tabindex=\"0\">FT</a>\n"
     ]
    }
   ],
   "source": [
    "#findall links where text is FT or FT-Pens\n",
    "links=lafc_body.findAll(\"a\",{\"class\":\"AnchorLink\"},text=(\"FT\",\"FT-Pens\"))\n",
    "print(\"Number of links:\",len(links))\n",
    "print(\"\")\n",
    "print(\"Output for one link\")\n",
    "print(\"-----\")\n",
    "print(links[0])"
   ]
  },
  {
   "cell_type": "code",
   "execution_count": 7,
   "metadata": {
    "scrolled": true
   },
   "outputs": [
    {
     "name": "stdout",
     "output_type": "stream",
     "text": [
      "Number of games: 89\n",
      "\n",
      "Output for game\n",
      "-----\n",
      "561813\n",
      "\n",
      "We collected all of the game_IDs: True\n"
     ]
    }
   ],
   "source": [
    "#find game_id's\n",
    "\n",
    "lafc_game_ids=[]\n",
    "for link in links:\n",
    "    #append the id list with the last 6 numbers of the link\n",
    "    lafc_game_ids.append(link[\"href\"][-6:])\n",
    "print(\"Number of games:\",len(lafc_game_ids))\n",
    "print(\"\")\n",
    "print(\"Output for game\")\n",
    "print(\"-----\")\n",
    "print(lafc_game_ids[0])\n",
    "print(\"\")\n",
    "#Does the number of games = links = game_ids?\n",
    "print(\"We collected all of the game_IDs:\",len(lafc_games)==len(links)==len(lafc_game_ids))"
   ]
  },
  {
   "cell_type": "markdown",
   "metadata": {},
   "source": [
    "## 2. Accessing Game Data"
   ]
  },
  {
   "cell_type": "code",
   "execution_count": 8,
   "metadata": {},
   "outputs": [],
   "source": [
    "def home_stats(game_ids):\n",
    "    game_date=[]\n",
    "    game_id=[]\n",
    "    event=[]\n",
    "    team=[]\n",
    "    opponent=[]\n",
    "    home=[]\n",
    "    goals=[]\n",
    "    fouls=[]\n",
    "    yellow_cards=[]\n",
    "    red_cards=[]\n",
    "    offsides=[]\n",
    "    corners=[]\n",
    "    saves=[]\n",
    "    possession=[]\n",
    "    shots=[]\n",
    "    shots_on_goal=[]\n",
    "    \n",
    "    for game in game_ids:\n",
    "        page=requests.get(\"https://www.espn.com/soccer/match?gameId=\"+game)\n",
    "        soup=BeautifulSoup(page.content,\"html.parser\")\n",
    "        if soup.find(\"div\",{\"id\":\"gamepackage-game-information\"}):\n",
    "            date_data = soup.find(\"div\",{\"id\":\"gamepackage-game-information\"})\n",
    "            game_date.append(np.datetime64(date_data.find(\"span\",{\"data-behavior\":\"date_time\"})[\"data-date\"]))\n",
    "        else:\n",
    "            game_date.append(None)\n",
    "        game_id.append(game)\n",
    "            #event for match\n",
    "        if soup.find(\"div\",{\"class\",\"game-details header\"}):\n",
    "            event.append(soup.find(\"div\",{\"class\",\"game-details header\"}).text.replace(\"\\n\",\"\").replace(\"  \",\"\"))\n",
    "        else:\n",
    "            event.append(None)\n",
    "            #home_team\n",
    "        home.append(1.0)\n",
    "                #home_team\n",
    "        regex = re.compile('.*team away.*')\n",
    "        if soup.find(\"div\",{\"class\",regex}):\n",
    "            home_team=soup.find(\"div\",{\"class\",regex})\n",
    "            team.append(home_team.find(\"span\",{\"class\",\"long-name\"}).text)\n",
    "        else:\n",
    "            team.append(None)\n",
    "        #opponent\n",
    "        opp_regex = re.compile('.*team home.*')\n",
    "        if soup.find(\"div\",{\"class\",opp_regex}):\n",
    "            opp=soup.find(\"div\",{\"class\",opp_regex})\n",
    "            opponent.append(opp.find(\"span\",{\"class\",\"long-name\"}).text)\n",
    "        else:\n",
    "            opponent.append(None)\n",
    "                #home_goals\n",
    "        goals.append(home_team.find(\"span\",{\"class\",\"score icon-font-after\"}).text.replace(\"\\n\",\"\").replace(\"\\t\",\"\"))\n",
    "                #stats\n",
    "        if soup.find(\"div\",{\"class\":\"stat-list\"}):\n",
    "            statistics=soup.find(\"div\",{\"class\":\"stat-list\"})\n",
    "            stats=statistics.findAll(\"td\",{\"data-home-away\":\"home\"})\n",
    "            for stat in stats:\n",
    "                if stat[\"data-stat\"]==\"foulsCommitted\":\n",
    "                    fouls.append(stat.text)\n",
    "                if stat[\"data-stat\"]==\"yellowCards\":\n",
    "                    yellow_cards.append(stat.text) \n",
    "                if stat[\"data-stat\"]==\"redCards\":\n",
    "                    red_cards.append(stat.text) \n",
    "                if stat[\"data-stat\"]==\"offsides\":\n",
    "                    offsides.append(stat.text) \n",
    "                if stat[\"data-stat\"]==\"wonCorners\":\n",
    "                    corners.append(stat.text) \n",
    "                if stat[\"data-stat\"]==\"saves\":\n",
    "                    saves.append(stat.text) \n",
    "            vis_stats=soup.find(\"div\",{\"class\",\"data-vis\"})        \n",
    "            poss=vis_stats.findAll(\"span\",{\"class\":\"chartValue\"})\n",
    "            for p in poss:\n",
    "                if p[\"data-home-away\"] == \"home\":\n",
    "                    possession.append(float(p.text.replace(\"%\",\"\"))/100)\n",
    "            shot_stats=vis_stats.findAll(\"span\",{\"class\":\"number\"})\n",
    "            for shot_stat in shot_stats:\n",
    "                if shot_stat[\"data-home-away\"] == \"home\":\n",
    "                    s=shot_stat.text.split(\" \")\n",
    "                    shots.append(float(s[0]))\n",
    "                    shots_on_goal.append(float(s[1].replace(\"(\",\"\").replace(\")\",\"\")))\n",
    "        else:\n",
    "            fouls.append(None)\n",
    "            yellow_cards.append(None)\n",
    "            red_cards.append(None)\n",
    "            offsides.append(None)\n",
    "            corners.append(None)\n",
    "            saves.append(None)\n",
    "            possession.append(None)\n",
    "            shots.append(None)\n",
    "            shots_on_goal.append(None)\n",
    "            \n",
    "                \n",
    "    home_results=pd.DataFrame(zip(game_date,game_id,event,team,opponent,home,goals,fouls,yellow_cards,red_cards,\n",
    "                                  offsides,corners,saves,possession,shots,shots_on_goal),\n",
    "                         columns=[\"game_date\",\"game_id\",\"event\", \"team\",\"opponent\",\"home\",\"goals\",\"fouls\",\n",
    "                                  \"yellow_cards\", \"red_cards\", \"offsides\",\"corners\",\"saves\",\"possession\",\n",
    "                                  \"shots\",\"shots_on_goal\"])\n",
    "    \n",
    "    return home_results"
   ]
  },
  {
   "cell_type": "code",
   "execution_count": 9,
   "metadata": {},
   "outputs": [],
   "source": [
    "def away_stats(game_ids):\n",
    "    game_date=[]\n",
    "    game_id=[]\n",
    "    event=[]\n",
    "    team=[]\n",
    "    opponent=[]\n",
    "    home=[]\n",
    "    goals=[]\n",
    "    fouls=[]\n",
    "    yellow_cards=[]\n",
    "    red_cards=[]\n",
    "    offsides=[]\n",
    "    corners=[]\n",
    "    saves=[]\n",
    "    possession=[]\n",
    "    shots=[]\n",
    "    shots_on_goal=[]\n",
    "    \n",
    "    for game in game_ids:\n",
    "        page=requests.get(\"https://www.espn.com/soccer/match?gameId=\"+game)\n",
    "        soup=BeautifulSoup(page.content,\"html.parser\")\n",
    "        if soup.find(\"div\",{\"id\":\"gamepackage-game-information\"}):\n",
    "            date_data = soup.find(\"div\",{\"id\":\"gamepackage-game-information\"})\n",
    "            game_date.append(np.datetime64(date_data.find(\"span\",{\"data-behavior\":\"date_time\"})[\"data-date\"]))\n",
    "        else:\n",
    "            game_date.append(None)\n",
    "        game_id.append(game)\n",
    "            #event for match\n",
    "        if soup.find(\"div\",{\"class\",\"game-details header\"}):\n",
    "            event.append(soup.find(\"div\",{\"class\",\"game-details header\"}).text.replace(\"\\n\",\"\").replace(\"  \",\"\"))\n",
    "        else:\n",
    "            event.append(None)\n",
    "            #home_team\n",
    "        home.append(0.0)\n",
    "            #away_team\n",
    "        regex = re.compile('.*team home.*')\n",
    "        if soup.find(\"div\",{\"class\",regex}):\n",
    "            away_team=soup.find(\"div\",{\"class\",regex})\n",
    "            team.append(away_team.find(\"span\",{\"class\",\"long-name\"}).text)\n",
    "        else:\n",
    "            team.append(None)\n",
    "        #opponent\n",
    "        opp_regex = re.compile('.*team away.*')\n",
    "        if soup.find(\"div\",{\"class\",opp_regex}):\n",
    "            opp=soup.find(\"div\",{\"class\",opp_regex})\n",
    "            opponent.append(opp.find(\"span\",{\"class\",\"long-name\"}).text)\n",
    "        else:\n",
    "            opponent.append(None)\n",
    "                #home_goals\n",
    "        goals.append(away_team.find(\"span\",{\"class\",\"score icon-font-before\"}).text.replace(\"\\n\",\"\").replace(\"\\t\",\"\"))\n",
    "                #stats\n",
    "        if soup.find(\"div\",{\"class\":\"stat-list\"}):\n",
    "            statistics=soup.find(\"div\",{\"class\":\"stat-list\"})\n",
    "            stats=statistics.findAll(\"td\",{\"data-home-away\":\"away\"})\n",
    "            for stat in stats:\n",
    "                if stat[\"data-stat\"]==\"foulsCommitted\":\n",
    "                    fouls.append(stat.text)\n",
    "                if stat[\"data-stat\"]==\"yellowCards\":\n",
    "                    yellow_cards.append(stat.text) \n",
    "                if stat[\"data-stat\"]==\"redCards\":\n",
    "                    red_cards.append(stat.text) \n",
    "                if stat[\"data-stat\"]==\"offsides\":\n",
    "                    offsides.append(stat.text) \n",
    "                if stat[\"data-stat\"]==\"wonCorners\":\n",
    "                    corners.append(stat.text) \n",
    "                if stat[\"data-stat\"]==\"saves\":\n",
    "                    saves.append(stat.text) \n",
    "            vis_stats=soup.find(\"div\",{\"class\",\"data-vis\"})        \n",
    "            poss=vis_stats.findAll(\"span\",{\"class\":\"chartValue\"})\n",
    "            for p in poss:\n",
    "                if p[\"data-home-away\"] == \"away\":\n",
    "                    possession.append(float(p.text.replace(\"%\",\"\"))/100)\n",
    "            shot_stats=vis_stats.findAll(\"span\",{\"class\":\"number\"})\n",
    "            for shot_stat in shot_stats:\n",
    "                if shot_stat[\"data-home-away\"] == \"away\":\n",
    "                    s=shot_stat.text.split(\" \")\n",
    "                    shots.append(float(s[0]))\n",
    "                    shots_on_goal.append(float(s[1].replace(\"(\",\"\").replace(\")\",\"\")))\n",
    "        else:\n",
    "            fouls.append(None)\n",
    "            yellow_cards.append(None)\n",
    "            red_cards.append(None)\n",
    "            offsides.append(None)\n",
    "            corners.append(None)\n",
    "            saves.append(None)\n",
    "            possession.append(None)\n",
    "            shots.append(None)\n",
    "            shots_on_goal.append(None)\n",
    "            \n",
    "                \n",
    "    away_results=pd.DataFrame(zip(game_date,game_id,event,team,opponent,home,goals,fouls,yellow_cards,red_cards,\n",
    "                                  offsides,corners,saves,possession,shots,shots_on_goal),\n",
    "                         columns=[\"game_date\",\"game_id\",\"event\", \"team\",\"opponent\",\"home\",\"goals\",\"fouls\",\n",
    "                                  \"yellow_cards\", \"red_cards\", \"offsides\",\"corners\",\"saves\",\"possession\",\n",
    "                                  \"shots\",\"shots_on_goal\"])\n",
    "    \n",
    "    return away_results"
   ]
  },
  {
   "cell_type": "code",
   "execution_count": 13,
   "metadata": {},
   "outputs": [],
   "source": [
    "def get_results(tournament,game_ids):\n",
    "    home=home_stats(game_ids)\n",
    "    away=away_stats(game_ids)\n",
    "    \n",
    "    results=home.append(away)\n",
    "    results.sort_values([\"game_id\"],inplace=True)\n",
    "    results.reset_index(inplace=True)\n",
    "    results.drop(\"index\",axis=1,inplace=True)\n",
    "    \n",
    "    results.to_csv(tournament+\".csv\")\n",
    "    return results.head(5)"
   ]
  },
  {
   "cell_type": "code",
   "execution_count": 14,
   "metadata": {},
   "outputs": [],
   "source": [
    "# Remove all games for 2020 season\n",
    "\n",
    "lafc_game_ids=[x for x in lafc_game_ids if x not in lafc_game_id_2020]"
   ]
  },
  {
   "cell_type": "code",
   "execution_count": 15,
   "metadata": {},
   "outputs": [
    {
     "name": "stderr",
     "output_type": "stream",
     "text": [
      "/Users/mrbroncosaurus/opt/anaconda3/lib/python3.7/site-packages/ipykernel_launcher.py:24: DeprecationWarning: parsing timezone aware datetimes is deprecated; this will raise an error in the future\n"
     ]
    },
    {
     "data": {
      "text/html": [
       "<div>\n",
       "<style scoped>\n",
       "    .dataframe tbody tr th:only-of-type {\n",
       "        vertical-align: middle;\n",
       "    }\n",
       "\n",
       "    .dataframe tbody tr th {\n",
       "        vertical-align: top;\n",
       "    }\n",
       "\n",
       "    .dataframe thead th {\n",
       "        text-align: right;\n",
       "    }\n",
       "</style>\n",
       "<table border=\"1\" class=\"dataframe\">\n",
       "  <thead>\n",
       "    <tr style=\"text-align: right;\">\n",
       "      <th></th>\n",
       "      <th>game_date</th>\n",
       "      <th>game_id</th>\n",
       "      <th>event</th>\n",
       "      <th>team</th>\n",
       "      <th>opponent</th>\n",
       "      <th>home</th>\n",
       "      <th>goals</th>\n",
       "      <th>fouls</th>\n",
       "      <th>yellow_cards</th>\n",
       "      <th>red_cards</th>\n",
       "      <th>offsides</th>\n",
       "      <th>corners</th>\n",
       "      <th>saves</th>\n",
       "      <th>possession</th>\n",
       "      <th>shots</th>\n",
       "      <th>shots_on_goal</th>\n",
       "    </tr>\n",
       "  </thead>\n",
       "  <tbody>\n",
       "    <tr>\n",
       "      <td>0</td>\n",
       "      <td>2018-10-28 20:30:00</td>\n",
       "      <td>502360</td>\n",
       "      <td>2018 Major League Soccer, Regular Season</td>\n",
       "      <td>LAFC</td>\n",
       "      <td>Sporting Kansas City</td>\n",
       "      <td>0.0</td>\n",
       "      <td>1</td>\n",
       "      <td>12</td>\n",
       "      <td>1</td>\n",
       "      <td>0</td>\n",
       "      <td>1</td>\n",
       "      <td>4</td>\n",
       "      <td>5</td>\n",
       "      <td>0.56</td>\n",
       "      <td>16.0</td>\n",
       "      <td>3.0</td>\n",
       "    </tr>\n",
       "    <tr>\n",
       "      <td>1</td>\n",
       "      <td>2018-10-28 20:30:00</td>\n",
       "      <td>502360</td>\n",
       "      <td>2018 Major League Soccer, Regular Season</td>\n",
       "      <td>Sporting Kansas City</td>\n",
       "      <td>LAFC</td>\n",
       "      <td>1.0</td>\n",
       "      <td>2</td>\n",
       "      <td>13</td>\n",
       "      <td>3</td>\n",
       "      <td>1</td>\n",
       "      <td>0</td>\n",
       "      <td>2</td>\n",
       "      <td>1</td>\n",
       "      <td>0.44</td>\n",
       "      <td>8.0</td>\n",
       "      <td>7.0</td>\n",
       "    </tr>\n",
       "    <tr>\n",
       "      <td>2</td>\n",
       "      <td>2018-10-21 21:00:00</td>\n",
       "      <td>502377</td>\n",
       "      <td>2018 Major League Soccer, Regular Season</td>\n",
       "      <td>Vancouver Whitecaps</td>\n",
       "      <td>LAFC</td>\n",
       "      <td>0.0</td>\n",
       "      <td>2</td>\n",
       "      <td>18</td>\n",
       "      <td>3</td>\n",
       "      <td>0</td>\n",
       "      <td>3</td>\n",
       "      <td>1</td>\n",
       "      <td>3</td>\n",
       "      <td>0.27</td>\n",
       "      <td>10.0</td>\n",
       "      <td>4.0</td>\n",
       "    </tr>\n",
       "    <tr>\n",
       "      <td>3</td>\n",
       "      <td>2018-10-21 21:00:00</td>\n",
       "      <td>502377</td>\n",
       "      <td>2018 Major League Soccer, Regular Season</td>\n",
       "      <td>LAFC</td>\n",
       "      <td>Vancouver Whitecaps</td>\n",
       "      <td>1.0</td>\n",
       "      <td>2</td>\n",
       "      <td>11</td>\n",
       "      <td>1</td>\n",
       "      <td>0</td>\n",
       "      <td>0</td>\n",
       "      <td>4</td>\n",
       "      <td>2</td>\n",
       "      <td>0.73</td>\n",
       "      <td>20.0</td>\n",
       "      <td>5.0</td>\n",
       "    </tr>\n",
       "    <tr>\n",
       "      <td>4</td>\n",
       "      <td>2018-10-13 02:00:00</td>\n",
       "      <td>502378</td>\n",
       "      <td>2018 Major League Soccer, Regular Season</td>\n",
       "      <td>Houston Dynamo</td>\n",
       "      <td>LAFC</td>\n",
       "      <td>0.0</td>\n",
       "      <td>2</td>\n",
       "      <td>13</td>\n",
       "      <td>2</td>\n",
       "      <td>0</td>\n",
       "      <td>0</td>\n",
       "      <td>2</td>\n",
       "      <td>4</td>\n",
       "      <td>0.40</td>\n",
       "      <td>9.0</td>\n",
       "      <td>5.0</td>\n",
       "    </tr>\n",
       "  </tbody>\n",
       "</table>\n",
       "</div>"
      ],
      "text/plain": [
       "            game_date game_id                                     event  \\\n",
       "0 2018-10-28 20:30:00  502360  2018 Major League Soccer, Regular Season   \n",
       "1 2018-10-28 20:30:00  502360  2018 Major League Soccer, Regular Season   \n",
       "2 2018-10-21 21:00:00  502377  2018 Major League Soccer, Regular Season   \n",
       "3 2018-10-21 21:00:00  502377  2018 Major League Soccer, Regular Season   \n",
       "4 2018-10-13 02:00:00  502378  2018 Major League Soccer, Regular Season   \n",
       "\n",
       "                   team              opponent  home goals fouls yellow_cards  \\\n",
       "0                  LAFC  Sporting Kansas City   0.0     1    12            1   \n",
       "1  Sporting Kansas City                  LAFC   1.0     2    13            3   \n",
       "2   Vancouver Whitecaps                  LAFC   0.0     2    18            3   \n",
       "3                  LAFC   Vancouver Whitecaps   1.0     2    11            1   \n",
       "4        Houston Dynamo                  LAFC   0.0     2    13            2   \n",
       "\n",
       "  red_cards offsides corners saves  possession  shots  shots_on_goal  \n",
       "0         0        1       4     5        0.56   16.0            3.0  \n",
       "1         1        0       2     1        0.44    8.0            7.0  \n",
       "2         0        3       1     3        0.27   10.0            4.0  \n",
       "3         0        0       4     2        0.73   20.0            5.0  \n",
       "4         0        0       2     4        0.40    9.0            5.0  "
      ]
     },
     "execution_count": 15,
     "metadata": {},
     "output_type": "execute_result"
    }
   ],
   "source": [
    "get_results(\"lafc_games\",lafc_game_ids)"
   ]
  },
  {
   "cell_type": "markdown",
   "metadata": {},
   "source": [
    "The above file shows the games of LAFC since the beginning of their campaign in 2018. Each game_id consists of two rows, one for each team in the match. Home/Away team is indicated by a 1.0 or 0.0 respectively. All other data point are fairly self explanitory but will be explored more during the next phase. "
   ]
  }
 ],
 "metadata": {
  "kernelspec": {
   "display_name": "Python 3",
   "language": "python",
   "name": "python3"
  },
  "language_info": {
   "codemirror_mode": {
    "name": "ipython",
    "version": 3
   },
   "file_extension": ".py",
   "mimetype": "text/x-python",
   "name": "python",
   "nbconvert_exporter": "python",
   "pygments_lexer": "ipython3",
   "version": "3.7.4"
  }
 },
 "nbformat": 4,
 "nbformat_minor": 2
}
